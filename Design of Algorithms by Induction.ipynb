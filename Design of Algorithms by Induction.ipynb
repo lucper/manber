{
  "cells": [
    {
      "cell_type": "markdown",
      "source": [
        "## Design of Algorithms by Induction\n",
        "\n",
        "These notes are based on the book *Introduction to Algorithms: A Creative Approach* (chapter 5)."
      ],
      "metadata": {
        "id": "wdovLlg9A6PQ",
        "colab_type": "text"
      }
    },
    {
      "cell_type": "markdown",
      "source": [
        "### Evaluating Polynomials\n",
        "\n",
        "**Problem.** Given a sequence of real numbers $(a_n,a_{n-1},...,a_0)$, and a real number $x$, compute the value of the polynomial $$P_n(x)=a_nx^n+a_{n-1}x^{n-1}+...+a_1x+a_0\\text{.}$$"
      ],
      "metadata": {
        "id": "HjKFsFG9Bdb8",
        "colab_type": "text"
      }
    },
    {
      "cell_type": "markdown",
      "source": [
        "Reduce the problem by removing $a_n$, remaining $$P_{n-1}(x)=a_{n-1}x^{n-1}+a_{n-1}x^{n-2}+...+a_1x+a_0\\text{.}$$ Thus, we are lead to the following hypothesis:\n",
        "\n",
        "**Induction Hypothesis:** we know how to evaluate $P_{n-1}(x)$.\n",
        "\n",
        "To solve the base case, compute $a_0$, which is trivial. To solve the originial problem (computing $P_n(x)$):\n",
        "1. compute $x^n$, \n",
        "2. multiply it by $a_n$,\n",
        "3. add the result to $P_{n-1}(x)$.\n",
        "\n",
        "That is, $P_n(x)=a_nx^n+P_{n-1}(x)$."
      ],
      "metadata": {
        "id": "b0edcWO6C0uZ",
        "colab_type": "text"
      }
    },
    {
      "cell_type": "code",
      "source": [
        "def evaluate(A, x):\n",
        "    n = len(A) - 1\n",
        "    if n == 0:\n",
        "        return A[0]\n",
        "    else:\n",
        "        return A[n] * x**n + evaluate(A[:n], x) # A[:n] is equivalent to A[0..n-1]"
      ],
      "outputs": [],
      "execution_count": 0,
      "metadata": {
        "id": "Sdw3c3FIDPuI",
        "colab_type": "code",
        "colab": {}
      }
    },
    {
      "cell_type": "markdown",
      "source": [
        "**Observation.** Including exponentiation as a basic operation, it requires constant time to compute. Otherwise, we would have to strengthen the induction hypothesis including *we also know how to compute $x^{n-1}$*.\n",
        "\n",
        "**Complexity.** The running time can be described by the recurrence\n",
        "$$\n",
        "T(n)=\n",
        "\\left\\{\n",
        "\\begin{array}{ll}\n",
        "      O(1)          & n=1  \\\\\n",
        "      T(n-1) + O(1) & n > 1\n",
        "\\end{array} \n",
        "\\right.\n",
        "$$\n",
        "which is $O(n)$."
      ],
      "metadata": {
        "id": "Ba2a6p23HMQj",
        "colab_type": "text"
      }
    },
    {
      "cell_type": "markdown",
      "source": [
        "A simpler algorithm can be designed removing $a_n$ *and* $a_0$, which is $$P'_{n-1}(x)=a_nx^{n-1}+a_{n_1}^{n-2}+...+a_1\\text{.}$$\n",
        "Notice that $a_n$ is now the ($n-1$)th coefficient, $a_{n-1}$ is the ($n-2$)th coefficient, and so on.\n",
        "\n",
        "**Induction Hypothesis (reversed order):** we know how to evaluate $P'_{n-1}(x)$.\n",
        "\n",
        "The base case remaings the same, but this hypothesis is more suited to our purposes because it's easier to extend. Thus, to solve $P(x)$:\n",
        "1. multiply $x$ by $P'_{n-1}(x)$,\n",
        "2. add it to $a_0$.\n",
        "\n",
        "This algorithm is known as **Horner's rule**."
      ],
      "metadata": {
        "id": "oedyKtX9IZi0",
        "colab_type": "text"
      }
    },
    {
      "cell_type": "code",
      "source": [
        "def horner_rule(A, x):\n",
        "    n = len(A) - 1\n",
        "    result = A[n]\n",
        "    for i in range(n):\n",
        "        result = x * result + A[i]\n",
        "    return result"
      ],
      "outputs": [],
      "execution_count": 0,
      "metadata": {
        "id": "oudyS2_JKqtt",
        "colab_type": "code",
        "colab": {}
      }
    },
    {
      "cell_type": "markdown",
      "source": [
        "**Complexity.** Line 2 and 3 are $O(1)$ and the loop is $O(n)$, therefore the running time is $O(n)$."
      ],
      "metadata": {
        "id": "wg1sW_w-OPh-",
        "colab_type": "text"
      }
    },
    {
      "cell_type": "markdown",
      "source": [
        "### The Celebrity Problem\n",
        "\n",
        "**Problem.** Given a $n \\times n$ adjacency matrix, determine whether there exists an $i$ such that all the entries in the $i$th column are 1 (except for the $ii$th entry), and all the entries in the $i$th row are 0 (except for the $ii$th entry)."
      ],
      "metadata": {
        "id": "aDXy2Dw2OmEk",
        "colab_type": "text"
      }
    },
    {
      "cell_type": "markdown",
      "source": [
        "**Definition.** Among $n$ persons, a *celebrity* is someone who is known by everyone but does not know anyone.\n",
        "\n",
        "The problem is to find the celebrity, if one exists, by asking if a person $A$ knows another person $B$. The goal is to minimize the number of questions, because since there are $n(n-1)/2$ pairs of persons, we may need to ask $n(n-1)$ questions in the worst case, what would require an $O(n^2)$ algorithm.\n",
        "\n",
        "Using a graph-theoretical formulation, we can build a directed graph with the vertices corresponding to the persons and an edge from person $A$ to person $B$ if $A$ knows $B$. A celebrity is a vertex with indegree $n-1$ and outdegree 0, also known as a *sink*.\n",
        "\n",
        "**Definition.** A *sink* is a vertex with indegree $n-1$ and outdegree $0$.\n",
        "\n",
        "Notice that a graph can have at most one sink.\n",
        "\n",
        "The input to the problem corresponds to a $n \\times n$ adjacency matrix whose $ij$ entry is 1 if $i$th person knows $j$th person, and 0 otherwie."
      ],
      "metadata": {
        "id": "R04hu9-RPojf",
        "colab_type": "text"
      }
    },
    {
      "cell_type": "code",
      "source": [
        "M = [\n",
        "   # 0 1 2 3\n",
        "    [0,0,0,1], # 0\n",
        "    [0,0,1,1], # 1\n",
        "    [0,1,0,0], # 2\n",
        "    [0,0,0,0]  # 3\n",
        "]"
      ],
      "outputs": [],
      "execution_count": 0,
      "metadata": {
        "id": "nHyB_ZXOSgvY",
        "colab_type": "code",
        "colab": {}
      }
    },
    {
      "cell_type": "markdown",
      "source": [
        "**Induction Hypothesis:** we know how to find the celebrity among the first $n-1$ persons.\n",
        "\n",
        "The base case is simple: if there is only one person, she is the celebrity. \n",
        "\n",
        "Since there is at most one celebrity, there are three possibilities:\n",
        "1. the celebrity is among the first $n-1$ persons,\n",
        "2. the celebrity is the $n$th person,\n",
        "3. there is no celebrity.\n",
        "\n",
        "To handle case 1, just check if the $n$th person knows the celebrity, and that the celebrity does not know the $n$th person. To handle the other two cases, we may need to ask $2(n-1)$ questions to determine if the $n$th person is the celebrity (2 questions per vertex minus 2 for the $n$th one). This may require $n(n-1)$ questions in the worst case. Not good.\n",
        "\n",
        "Instead, let's identify someone as a noncelebrity so we can reduce the size of the problem from $n$ to $n-1$ eliminating someone from consideration (we have much more noncelebrities after all). This can be done like so:\n",
        "```\n",
        "if A knows B then\n",
        "    A is not a celebrity\n",
        "else\n",
        "    B is not a celebrity \n",
        "```\n",
        "\n",
        "Consider again the three cases. Using the idea above, we can eliminate one person and solve the problem for the other $n-1$ persons (by our hypothesis).\n",
        "- Case 1: with two more questions, we verify this a celebrity for the whole set.\n",
        "- Case 2: guaranteed to not occur since we are eliminating noncelebrities, thus the $n$th person cannot be the celebrity. \n",
        "- Case 3: there is no celebrity among the $n$ persons."
      ],
      "metadata": {
        "id": "SBTUSWSHTWLv",
        "colab_type": "text"
      }
    },
    {
      "cell_type": "code",
      "source": [
        "def find_celebrity(Know):\n",
        "    n = len(Know) - 1\n",
        "    i, j, next = 0, 1, 2\n",
        "    \n",
        "    # eliminate all but one candidate, \n",
        "    # i.e someone everyone knows.\n",
        "    while next <= n + 1:\n",
        "        if Know[i][j]:                                 # i is not celebrity\n",
        "            i = next\n",
        "        else:                                          # j is not celebrity\n",
        "            j = next\n",
        "        next += 1\n",
        "    if i == n + 1:\n",
        "        candidate = j\n",
        "    else:\n",
        "        candidate = i\n",
        "    \n",
        "    # check that the candidate is indeed\n",
        "    # the celebrity.\n",
        "    wrong = False\n",
        "    k = 0\n",
        "    while k <= n and not wrong:\n",
        "        if Know[candidate][k]:                         # if candidate knows someone\n",
        "            wrong = True\n",
        "        if not Know[k][candidate] and candidate != k:  # if someone does not know the candidate\n",
        "            wrong = True\n",
        "        k += 1\n",
        "    if not wrong:\n",
        "        print(f'The celebrity is {candidate}')\n",
        "    else:\n",
        "        print('There is no celebrity')"
      ],
      "outputs": [],
      "execution_count": 0,
      "metadata": {
        "id": "eCPli3bNTVV3",
        "colab_type": "code",
        "colab": {}
      }
    },
    {
      "cell_type": "markdown",
      "source": [
        "**Complexity.** We compute at most $O(n)$ \"questions\" for the whole set of persons. "
      ],
      "metadata": {
        "id": "CE_CVH8eoOKP",
        "colab_type": "text"
      }
    },
    {
      "cell_type": "code",
      "source": [
        "find_celebrity([\n",
        "   # 0 1 2 3\n",
        "    [0,0,0,1], # 0\n",
        "    [0,0,1,1], # 1\n",
        "    [0,1,0,1], # 2\n",
        "    [0,0,0,0]  # 3\n",
        "])\n",
        "\n",
        "find_celebrity([\n",
        "   # 0 1 2 3\n",
        "    [0,0,0,1], # 0\n",
        "    [0,0,1,1], # 1\n",
        "    [0,1,0,0], # 2\n",
        "    [0,0,0,0]  # 3\n",
        "])"
      ],
      "outputs": [
        {
          "output_type": "stream",
          "name": "stdout",
          "text": [
            "The celebrity is 3\n",
            "There is no celebrity\n"
          ]
        }
      ],
      "execution_count": 72,
      "metadata": {
        "id": "ZH_wTe8_fsb5",
        "colab_type": "code",
        "outputId": "84f68c78-0376-480f-8cda-baf67e1be4b8",
        "executionInfo": {
          "status": "ok",
          "timestamp": 1589936811861,
          "user_tz": 180,
          "elapsed": 1068,
          "user": {
            "displayName": "Lucas Peres",
            "photoUrl": "https://lh5.googleusercontent.com/-I97-evfhnfc/AAAAAAAAAAI/AAAAAAAAAN4/c2XbXWSALdU/s64/photo.jpg",
            "userId": "00632541276221485122"
          }
        },
        "colab": {
          "base_uri": "https://localhost:8080/",
          "height": 51
        }
      }
    },
    {
      "cell_type": "markdown",
      "source": [
        "### Computing Balance Factors in Binary Trees\n",
        "\n",
        "**Problem.**"
      ],
      "metadata": {
        "id": "yGXCnYg9n0G2",
        "colab_type": "text"
      }
    },
    {
      "cell_type": "code",
      "source": [],
      "outputs": [],
      "execution_count": 0,
      "metadata": {
        "id": "F5ZZ4-_mn5ls",
        "colab_type": "code",
        "colab": {}
      }
    }
  ],
  "metadata": {
    "colab": {
      "name": "Design of Algorithms by Induction.ipynb",
      "provenance": [],
      "collapsed_sections": [],
      "authorship_tag": "ABX9TyMpp8CYuokQCXge6MGvAQ5V"
    },
    "kernelspec": {
      "name": "python3",
      "display_name": "Python 3"
    },
    "nteract": {
      "version": "0.23.1"
    }
  },
  "nbformat": 4,
  "nbformat_minor": 0
}
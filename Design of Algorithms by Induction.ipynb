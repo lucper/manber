{
  "cells": [
    {
      "cell_type": "markdown",
      "source": [
        "## Design of Algorithms by Induction\n",
        "\n",
        "These notes are based on the book *Introduction to Algorithms: A Creative Approach* (chapter 5).\n",
        "\n",
        "    It is not necessary to design the steps required to solve a problem from scratch; it suffices to guarantee that \n",
        "    (1) it is possible to solve a small instance of the problem (the base case), and \n",
        "    (2) a solution to every problem can be constructed from solutions of smaller subproblems (the inductive step).\n",
        "\n",
        "<br/><center><img src=img/design_principle.png></center>"
      ],
      "metadata": {
        "id": "wdovLlg9A6PQ",
        "colab_type": "text"
      }
    },
    {
      "cell_type": "markdown",
      "source": [
        "### Evaluating Polynomials\n",
        "\n",
        "**Problem.** Given a sequence of real numbers $(a_n,a_{n-1},...,a_0)$, and a real number $x$, compute the value of the polynomial $$P_n(x)=a_nx^n+a_{n-1}x^{n-1}+...+a_1x+a_0\\text{.}$$"
      ],
      "metadata": {
        "id": "HjKFsFG9Bdb8",
        "colab_type": "text"
      }
    },
    {
      "cell_type": "markdown",
      "source": [
        "Reduce the problem by removing $a_n$, remaining $$P_{n-1}(x)=a_{n-1}x^{n-1}+a_{n-1}x^{n-2}+...+a_1x+a_0\\text{.}$$ Thus, we are lead to the following hypothesis:\n",
        "\n",
        "**Induction Hypothesis:** we know how to evaluate $P_{n-1}(x)$.\n",
        "\n",
        "To solve the base case, compute $a_0$, which is trivial. To solve the originial problem (computing $P_n(x)$):\n",
        "1. compute $x^n$, \n",
        "2. multiply it by $a_n$,\n",
        "3. add the result to $P_{n-1}(x)$.\n",
        "\n",
        "That is, $P_n(x)=a_nx^n+P_{n-1}(x)$."
      ],
      "metadata": {
        "id": "b0edcWO6C0uZ",
        "colab_type": "text"
      }
    },
    {
      "cell_type": "code",
      "source": [
        "def evaluate(A, x):\n",
        "    n = len(A) - 1\n",
        "    if n == 0:\n",
        "        return A[0]\n",
        "    else:\n",
        "        return A[n] * x**n + evaluate(A[:n], x) # A[:n] is equivalent to A[0..n-1]"
      ],
      "outputs": [],
      "execution_count": 1,
      "metadata": {
        "id": "Sdw3c3FIDPuI",
        "colab_type": "code",
        "colab": {},
        "execution": {
          "iopub.status.busy": "2020-05-22T21:58:03.544Z",
          "iopub.execute_input": "2020-05-22T21:58:03.552Z",
          "iopub.status.idle": "2020-05-22T21:58:03.561Z",
          "shell.execute_reply": "2020-05-22T21:58:03.571Z"
        }
      }
    },
    {
      "cell_type": "markdown",
      "source": [
        "**Observation.** Including exponentiation as a basic operation, it requires constant time to compute. Otherwise, we would have to strengthen the induction hypothesis including *we also know how to compute $x^{n-1}$*.\n",
        "\n",
        "**Complexity.** The running time can be described by the recurrence\n",
        "$$\n",
        "T(n)=\n",
        "\\left\\{\n",
        "\\begin{array}{ll}\n",
        "      O(1)          & n=1  \\\\\n",
        "      T(n-1) + O(1) & n > 1\n",
        "\\end{array} \n",
        "\\right.\n",
        "$$\n",
        "which is $O(n)$."
      ],
      "metadata": {
        "id": "Ba2a6p23HMQj",
        "colab_type": "text"
      }
    },
    {
      "cell_type": "markdown",
      "source": [
        "A simpler algorithm can be designed removing $a_n$ *and* $a_0$, which is $$P'_{n-1}(x)=a_nx^{n-1}+a_{n_1}^{n-2}+...+a_1\\text{.}$$\n",
        "Notice that $a_n$ is now the ($n-1$)th coefficient, $a_{n-1}$ is the ($n-2$)th coefficient, and so on.\n",
        "\n",
        "**Induction Hypothesis (reversed order):** we know how to evaluate $P'_{n-1}(x)$.\n",
        "\n",
        "The base case remaings the same, but this hypothesis is more suited to our purposes because it's easier to extend. Thus, to solve $P(x)$:\n",
        "1. multiply $x$ by $P'_{n-1}(x)$,\n",
        "2. add it to $a_0$.\n",
        "\n",
        "This algorithm is known as **Horner's rule**."
      ],
      "metadata": {
        "id": "oedyKtX9IZi0",
        "colab_type": "text"
      }
    },
    {
      "cell_type": "code",
      "source": [
        "def horner_rule(A, x):\n",
        "    n = len(A) - 1\n",
        "    result = A[n]\n",
        "    for i in range(n):\n",
        "        result = x * result + A[i]\n",
        "    return result"
      ],
      "outputs": [],
      "execution_count": 2,
      "metadata": {
        "id": "oudyS2_JKqtt",
        "colab_type": "code",
        "colab": {},
        "execution": {
          "iopub.status.busy": "2020-05-22T21:58:06.175Z",
          "iopub.execute_input": "2020-05-22T21:58:06.184Z",
          "iopub.status.idle": "2020-05-22T21:58:06.196Z",
          "shell.execute_reply": "2020-05-22T21:58:06.206Z"
        }
      }
    },
    {
      "cell_type": "markdown",
      "source": [
        "**Complexity.** Line 2 and 3 are $O(1)$ and the loop is $O(n)$, therefore the running time is $O(n)$."
      ],
      "metadata": {
        "id": "wg1sW_w-OPh-",
        "colab_type": "text"
      }
    },
    {
      "cell_type": "markdown",
      "source": [
        "### The Celebrity Problem\n",
        "\n",
        "**Problem.** Given a $n \\times n$ adjacency matrix, determine whether there exists an $i$ such that all the entries in the $i$th column are 1 (except for the $ii$th entry), and all the entries in the $i$th row are 0 (except for the $ii$th entry)."
      ],
      "metadata": {
        "id": "aDXy2Dw2OmEk",
        "colab_type": "text"
      }
    },
    {
      "cell_type": "markdown",
      "source": [
        "**Definition.** Among $n$ persons, a *celebrity* is someone who is known by everyone but does not know anyone.\n",
        "\n",
        "The problem is to find the celebrity, if one exists, by asking if a person $A$ knows another person $B$. The goal is to minimize the number of questions, because since there are $n(n-1)/2$ pairs of persons, we may need to ask $n(n-1)$ questions in the worst case, what would require an $O(n^2)$ algorithm.\n",
        "\n",
        "Using a graph-theoretical formulation, we can build a directed graph with the vertices corresponding to the persons and an edge from person $A$ to person $B$ if $A$ knows $B$. A celebrity is a vertex with indegree $n-1$ and outdegree 0, also known as a *sink*.\n",
        "\n",
        "**Definition.** A *sink* is a vertex with indegree $n-1$ and outdegree $0$.\n",
        "\n",
        "Notice that a graph can have at most one sink.\n",
        "\n",
        "The input to the problem corresponds to a $n \\times n$ adjacency matrix whose $ij$ entry is 1 if $i$th person knows $j$th person, and 0 otherwie."
      ],
      "metadata": {
        "id": "R04hu9-RPojf",
        "colab_type": "text"
      }
    },
    {
      "cell_type": "code",
      "source": [
        "M = [\n",
        "   # 0 1 2 3\n",
        "    [0,0,0,1], # 0\n",
        "    [0,0,1,1], # 1\n",
        "    [0,1,0,0], # 2\n",
        "    [0,0,0,0]  # 3\n",
        "]"
      ],
      "outputs": [],
      "execution_count": 3,
      "metadata": {
        "id": "nHyB_ZXOSgvY",
        "colab_type": "code",
        "colab": {},
        "execution": {
          "iopub.status.busy": "2020-05-22T21:58:08.620Z",
          "iopub.execute_input": "2020-05-22T21:58:08.628Z",
          "iopub.status.idle": "2020-05-22T21:58:08.640Z",
          "shell.execute_reply": "2020-05-22T21:58:08.656Z"
        }
      }
    },
    {
      "cell_type": "markdown",
      "source": [
        "**Induction Hypothesis:** we know how to find the celebrity among the first $n-1$ persons.\n",
        "\n",
        "The base case is simple: if there is only one person, she is the celebrity. \n",
        "\n",
        "Since there is at most one celebrity, there are three possibilities:\n",
        "1. the celebrity is among the first $n-1$ persons,\n",
        "2. the celebrity is the $n$th person,\n",
        "3. there is no celebrity.\n",
        "\n",
        "To handle case 1, just check if the $n$th person knows the celebrity, and that the celebrity does not know the $n$th person. To handle the other two cases, we may need to ask $2(n-1)$ questions to determine if the $n$th person is the celebrity (2 questions per vertex minus 2 for the $n$th one). This may require $n(n-1)$ questions in the worst case. Not good.\n",
        "\n",
        "Instead, let's identify someone as a noncelebrity so we can reduce the size of the problem from $n$ to $n-1$ eliminating someone from consideration (we have much more noncelebrities after all). This can be done like so:\n",
        "```\n",
        "if A knows B then\n",
        "    A is not a celebrity\n",
        "else\n",
        "    B is not a celebrity \n",
        "```\n",
        "\n",
        "Consider again the three cases. Using the idea above, we can eliminate one person and solve the problem for the other $n-1$ persons (by our hypothesis).\n",
        "- Case 1: with two more questions, we verify this a celebrity for the whole set.\n",
        "- Case 2: guaranteed to not occur since we are eliminating noncelebrities, thus the $n$th person cannot be the celebrity. \n",
        "- Case 3: there is no celebrity among the $n$ persons."
      ],
      "metadata": {
        "id": "SBTUSWSHTWLv",
        "colab_type": "text"
      }
    },
    {
      "cell_type": "code",
      "source": [
        "def find_celebrity(Know):\n",
        "    n = len(Know) - 1\n",
        "    i, j, next = 0, 1, 2\n",
        "    \n",
        "    # eliminate all but one candidate, \n",
        "    # i.e someone everyone knows.\n",
        "    while next <= n + 1:\n",
        "        if Know[i][j]:                                 # i is not celebrity\n",
        "            i = next\n",
        "        else:                                          # j is not celebrity\n",
        "            j = next\n",
        "        next += 1\n",
        "    if i == n + 1:\n",
        "        candidate = j\n",
        "    else:\n",
        "        candidate = i\n",
        "    \n",
        "    # check that the candidate is indeed\n",
        "    # the celebrity.\n",
        "    wrong = False\n",
        "    k = 0\n",
        "    while k <= n and not wrong:\n",
        "        if Know[candidate][k]:                         # if candidate knows someone\n",
        "            wrong = True\n",
        "        if not Know[k][candidate] and candidate != k:  # if someone does not know the candidate\n",
        "            wrong = True\n",
        "        k += 1\n",
        "    if not wrong:\n",
        "        print(f'The celebrity is {candidate}')\n",
        "    else:\n",
        "        print('There is no celebrity')"
      ],
      "outputs": [],
      "execution_count": 4,
      "metadata": {
        "id": "eCPli3bNTVV3",
        "colab_type": "code",
        "colab": {},
        "execution": {
          "iopub.status.busy": "2020-05-22T21:58:13.777Z",
          "iopub.execute_input": "2020-05-22T21:58:13.786Z",
          "iopub.status.idle": "2020-05-22T21:58:13.803Z",
          "shell.execute_reply": "2020-05-22T21:58:13.818Z"
        }
      }
    },
    {
      "cell_type": "markdown",
      "source": [
        "**Complexity.** We compute at most $O(n)$ \"questions\" for the whole set of persons. "
      ],
      "metadata": {
        "id": "CE_CVH8eoOKP",
        "colab_type": "text"
      }
    },
    {
      "cell_type": "code",
      "source": [
        "find_celebrity([\n",
        "   # 0 1 2 3\n",
        "    [0,0,0,1], # 0\n",
        "    [0,0,1,1], # 1\n",
        "    [0,1,0,1], # 2\n",
        "    [0,0,0,0]  # 3\n",
        "])\n",
        "\n",
        "find_celebrity([\n",
        "   # 0 1 2 3\n",
        "    [0,0,0,1], # 0\n",
        "    [0,0,1,1], # 1\n",
        "    [0,1,0,0], # 2\n",
        "    [0,0,0,0]  # 3\n",
        "])"
      ],
      "outputs": [
        {
          "output_type": "stream",
          "name": "stdout",
          "text": [
            "The celebrity is 3\n",
            "There is no celebrity\n"
          ]
        }
      ],
      "execution_count": 5,
      "metadata": {
        "id": "ZH_wTe8_fsb5",
        "colab_type": "code",
        "outputId": "84f68c78-0376-480f-8cda-baf67e1be4b8",
        "executionInfo": {
          "status": "ok",
          "timestamp": 1589936811861,
          "user_tz": 180,
          "elapsed": 1068,
          "user": {
            "displayName": "Lucas Peres",
            "photoUrl": "https://lh5.googleusercontent.com/-I97-evfhnfc/AAAAAAAAAAI/AAAAAAAAAN4/c2XbXWSALdU/s64/photo.jpg",
            "userId": "00632541276221485122"
          }
        },
        "colab": {
          "base_uri": "https://localhost:8080/",
          "height": 51
        },
        "execution": {
          "iopub.status.busy": "2020-05-22T21:58:17.322Z",
          "iopub.execute_input": "2020-05-22T21:58:17.333Z",
          "iopub.status.idle": "2020-05-22T21:58:17.348Z",
          "shell.execute_reply": "2020-05-22T21:58:17.363Z"
        }
      }
    },
    {
      "cell_type": "markdown",
      "source": [
        "### Computing Balance Factors in Binary Trees\n",
        "\n",
        "**Problem.** Given a binary tree $T$ with $n$ nodes, compute the balance factors of all the nodes."
      ],
      "metadata": {
        "id": "yGXCnYg9n0G2",
        "colab_type": "text"
      }
    },
    {
      "cell_type": "markdown",
      "source": [
        "First of all, let's define an ADT for our binary tree along with a function to traverse it, what is height, and what is a balance factor."
      ],
      "metadata": {
        "nteract": {
          "transient": {
            "deleting": false
          }
        }
      }
    },
    {
      "cell_type": "code",
      "source": [
        "class BinaryTree:\n",
        "    def __init__(self, root_value):\n",
        "        self.left = None\n",
        "        self.right = None\n",
        "        self.height = 0\n",
        "        self.balance_factor = 0\n",
        "        self.value = root_value\n",
        "    def __repr__(self):\n",
        "        return f'<{self.value} (h={self.height}/bf={self.balance_factor})>'\n",
        "    def insert(self, value):\n",
        "        if value < self.value:\n",
        "            if self.left:\n",
        "                self.left.insert(value)\n",
        "            else:\n",
        "                self.left = BinaryTree(value)\n",
        "        elif value > self.value:\n",
        "            if self.right:\n",
        "                self.right.insert(value)\n",
        "            else:\n",
        "                self.right = BinaryTree(value)\n",
        "        else:\n",
        "            raise ValueError(f'{value} is already inserted')\n",
        "      \n",
        "def traverse_postorder(T):\n",
        "    if T:\n",
        "        traverse_postorder(T.left)\n",
        "        traverse_postorder(T.right)\n",
        "        print(T)"
      ],
      "outputs": [],
      "execution_count": 26,
      "metadata": {
        "id": "F5ZZ4-_mn5ls",
        "colab_type": "code",
        "colab": {},
        "execution": {
          "shell.execute_reply": "2020-05-22T23:40:56.378Z",
          "iopub.status.busy": "2020-05-22T23:40:56.354Z",
          "iopub.execute_input": "2020-05-22T23:40:56.362Z",
          "iopub.status.idle": "2020-05-22T23:40:56.372Z"
        }
      }
    },
    {
      "cell_type": "markdown",
      "source": [
        "**Definition.** The *height* of a node $v$ is the number of edges between $v$ and the farthest leaf down the tree.\n",
        "\n",
        "**Definition.** The *balance factor* of a node *v* is the difference between the height of the node's left subtree and the height of the node's right subtree.\n",
        "\n",
        "**Induction Hypothesis:** we know how to compute the balance factors of all nodes in trees that have less than $n$ nodes.\n",
        "\n",
        "The base case of $n=1$ is trivial (the balance factor is 0). Given a tree with $n>1$ nodes, we could use the hypothesis to compute the balance factors of the root's two subtrees. But we are left with the root. We can't compute its balance factor because it doesn't depend on the balance factors of its children, but on their height! Hence, we need to strengthen the induction hypothesis:\n",
        "\n",
        "**Stronger Induction Hypothesis:** we know how to compute balance factors **and heights** of all nodes in trees that have less than $n$ nodes.\n",
        "\n",
        "The base case remains the same. Now, we can easily compute the root's balance factors by calculating the difference between the heights of its two subtrees. Furthermore, we can also compute its height - the maximal height of the its subtrees plus 1."
      ],
      "metadata": {
        "nteract": {
          "transient": {
            "deleting": false
          }
        }
      }
    },
    {
      "cell_type": "code",
      "source": [
        "def height_and_bf(T):\n",
        "    if not T:\n",
        "        return 0, 0\n",
        "    else:\n",
        "        left_bf, left_height = height_and_bf(T.left)\n",
        "        right_bf, right_height = height_and_bf(T.right)\n",
        "        balance_factor = left_height - right_height\n",
        "        height = max(left_height, right_height) + 1       # add 1 to compute BF and return this value\n",
        "        T.balance_factor = balance_factor\n",
        "        T.height = height - 1                             # subtract 1 so every node has correct height\n",
        "        return balance_factor, height"
      ],
      "outputs": [],
      "execution_count": 27,
      "metadata": {
        "collapsed": true,
        "outputExpanded": false,
        "jupyter": {
          "source_hidden": false,
          "outputs_hidden": false
        },
        "nteract": {
          "transient": {
            "deleting": false
          }
        },
        "execution": {
          "iopub.status.busy": "2020-05-22T23:40:57.068Z",
          "iopub.execute_input": "2020-05-22T23:40:57.076Z",
          "iopub.status.idle": "2020-05-22T23:40:57.086Z",
          "shell.execute_reply": "2020-05-22T23:40:57.092Z"
        }
      }
    },
    {
      "cell_type": "markdown",
      "source": [
        "Notice we had to follow the induction hypothesis precisely! We added one more assumption (computing height), so we must adjust the algorithm to compute the height and balance factors *separately*."
      ],
      "metadata": {
        "nteract": {
          "transient": {
            "deleting": false
          }
        }
      }
    },
    {
      "cell_type": "code",
      "source": [
        "mytree = BinaryTree(6)\n",
        "mytree.insert(2)\n",
        "mytree.insert(7)\n",
        "mytree.insert(1)\n",
        "mytree.insert(4)\n",
        "mytree.insert(8)\n",
        "\n",
        "height_and_bf(mytree)\n",
        "\n",
        "traverse_postorder(mytree)"
      ],
      "outputs": [
        {
          "output_type": "stream",
          "name": "stdout",
          "text": [
            "<1 (h=0/bf=0)>\n",
            "<4 (h=0/bf=0)>\n",
            "<2 (h=1/bf=0)>\n",
            "<8 (h=0/bf=0)>\n",
            "<7 (h=1/bf=-1)>\n",
            "<6 (h=2/bf=0)>\n"
          ]
        }
      ],
      "execution_count": 31,
      "metadata": {
        "collapsed": true,
        "outputExpanded": false,
        "jupyter": {
          "source_hidden": false,
          "outputs_hidden": false
        },
        "nteract": {
          "transient": {
            "deleting": false
          }
        },
        "execution": {
          "iopub.status.busy": "2020-05-22T23:42:00.462Z",
          "iopub.execute_input": "2020-05-22T23:42:00.470Z",
          "iopub.status.idle": "2020-05-22T23:42:00.483Z",
          "shell.execute_reply": "2020-05-22T23:42:00.489Z"
        }
      }
    },
    {
      "cell_type": "markdown",
      "source": [
        "### Finding the Maximum Consecutive Subsequence\n",
        "\n",
        "**Problem.** Given a sequence $x_1,x_2,...,x_n$ of real numbers (not necessarily posivite), find a subsequence $x_i,x_{i+1},...,x_j$ (of consecutive elements) such that the sum of the numbers in it is maximum over all subsequences of consecutive elements.\n",
        "\n",
        "For example, take the sequence $(2,-3,1.5,-1,3,-2,-3,3)$. Its maximum consecutive subsequence (MCS) is $(1.5,-1,3)$, which sums up to $3.5$. There may be several MCS in a given sequence. If all numbers are negative, then the MCS is empty (by definition, its sum is $0$). We would like to have an algorithm that solves the problem and reads the sequence in order *only once*.\n",
        "\n",
        "**Induction Hypothesis:** we know how to find the maximum consecutive subsequence in sequences of size less than $n$.\n",
        "\n",
        "If $n=1$, the MCS consists of the single number if that number is positive, or the empty subsequence otherwise. Now, consider a sequence $S=(x_1,x_2,...,x_n)$ of size $n>1$. By induction we know how to find a MCS in $S'=(x_1,x_2,...,x_{n-1})$. If all numbers in $S'$ are negative, then its MCS is empty and we consider only $x_n$. If there is a MCS $(x_i,x_{i+1},...,x_j)$ in $S'$ for $1 \\leq i,j \\leq n-1$, we have two cases:\n",
        "\n",
        "a) If $j=n-1$, then it is easy to extend the solution to $S$: just append $x_n$ at the end such that we have $(x_i,x_{i+1},...,x_j,x_n)$.\n",
        "\n",
        "b) If $j<n-1$, then either $(x_i,x_{i+1},...,x_j)$ remains maximum or there is another MCS in $S$ when we add $x_n$."
      ],
      "metadata": {
        "nteract": {
          "transient": {
            "deleting": false
          }
        }
      }
    },
    {
      "cell_type": "code",
      "source": [
        "def maxsub(S):\n",
        "    n = len(S) - 1\n",
        "    if n == 0:\n",
        "        if S[n] < 0:\n",
        "            return []\n",
        "        else:\n",
        "            return [S[n]]\n",
        "    else:\n",
        "        subsequence = maxsub(S[:n])\n",
        "        solution = subsequence + [S[n]]\n",
        "        if sum(subsequence) < sum(solution):\n",
        "            return solution\n",
        "        else:\n",
        "            return subsequence"
      ],
      "outputs": [],
      "execution_count": 25,
      "metadata": {
        "collapsed": true,
        "outputExpanded": false,
        "jupyter": {
          "source_hidden": false,
          "outputs_hidden": false
        },
        "nteract": {
          "transient": {
            "deleting": false
          }
        },
        "execution": {
          "iopub.status.busy": "2020-05-25T01:47:15.030Z",
          "iopub.execute_input": "2020-05-25T01:47:15.040Z",
          "iopub.status.idle": "2020-05-25T01:47:15.055Z",
          "shell.execute_reply": "2020-05-25T01:47:15.064Z"
        }
      }
    },
    {
      "cell_type": "code",
      "source": [
        "S = [0,-1,3,-2,1] # should be [3]\n",
        "maxsub(S)"
      ],
      "outputs": [
        {
          "output_type": "execute_result",
          "execution_count": 26,
          "data": {
            "text/plain": [
              "[0, 3, 1]"
            ]
          },
          "metadata": {}
        }
      ],
      "execution_count": 26,
      "metadata": {
        "collapsed": true,
        "outputExpanded": false,
        "jupyter": {
          "source_hidden": false,
          "outputs_hidden": false
        },
        "nteract": {
          "transient": {
            "deleting": false
          }
        },
        "execution": {
          "iopub.status.busy": "2020-05-25T01:47:19.546Z",
          "iopub.execute_input": "2020-05-25T01:47:19.556Z",
          "iopub.status.idle": "2020-05-25T01:47:19.573Z",
          "shell.execute_reply": "2020-05-25T01:47:19.580Z"
        }
      }
    },
    {
      "cell_type": "markdown",
      "source": [
        "Notice that the implementation above doesn't consider case (b) when there is another MCS afetr we add `S[n]`. Actually, it correctly computes the maximum subsequence, but it may not be consecutive! Hence, the key is to strengthen the induction hypothesis. The problem we had with the straightforward induction hypothesis was that **$x_n$ may extend a subsequence that is not maximum in $S'$**, and thus create a new maximum subsequence. Knowing only the MCS in $S'$ is thus not sufficient.\n",
        "\n",
        "We must extend $S'$ with $x_n$ only when it ends at $n-1$. That is, a suffix of $S'$.\n",
        " \n",
        "**Stronger Induction Hypothesis:** we know how find, in sequences of size less than $n$, the maximum consecutive subsequence overall and also the maximum consecutive subsequence that it a suffix."
      ],
      "metadata": {
        "nteract": {
          "transient": {
            "deleting": false
          }
        }
      }
    },
    {
      "cell_type": "markdown",
      "source": [
        "### Dynamic Programming: The Knapsack Problem"
      ],
      "metadata": {
        "nteract": {
          "transient": {
            "deleting": false
          }
        }
      }
    }
  ],
  "metadata": {
    "colab": {
      "name": "Design of Algorithms by Induction.ipynb",
      "provenance": [],
      "collapsed_sections": [],
      "authorship_tag": "ABX9TyMpp8CYuokQCXge6MGvAQ5V"
    },
    "kernelspec": {
      "name": "python3",
      "display_name": "Python 3"
    },
    "nteract": {
      "version": "0.23.1"
    },
    "language_info": {
      "name": "python",
      "version": "3.7.6",
      "mimetype": "text/x-python",
      "codemirror_mode": {
        "name": "ipython",
        "version": 3
      },
      "pygments_lexer": "ipython3",
      "nbconvert_exporter": "python",
      "file_extension": ".py"
    }
  },
  "nbformat": 4,
  "nbformat_minor": 0
}